{
 "cells": [
  {
   "cell_type": "code",
   "execution_count": null,
   "id": "ab56eac4",
   "metadata": {},
   "outputs": [],
   "source": [
    "import kagglehub\n",
    "path = kgglehub.dataset_download('tmdb/tmdb-5000-movie-metadata')\n",
    "print(\"Path to the dataset:\", path)"
   ]
  }
 ],
 "metadata": {
  "language_info": {
   "name": "python"
  }
 },
 "nbformat": 4,
 "nbformat_minor": 5
}
